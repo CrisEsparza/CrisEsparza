{
  "nbformat": 4,
  "nbformat_minor": 0,
  "metadata": {
    "colab": {
      "provenance": [],
      "authorship_tag": "ABX9TyOCzXWUiouC4LSgQHNkMsdg",
      "include_colab_link": true
    },
    "kernelspec": {
      "name": "python3",
      "display_name": "Python 3"
    },
    "language_info": {
      "name": "python"
    }
  },
  "cells": [
    {
      "cell_type": "markdown",
      "metadata": {
        "id": "view-in-github",
        "colab_type": "text"
      },
      "source": [
        "<a href=\"https://colab.research.google.com/github/CrisEsparza/CrisEsparza/blob/main/Conversi%C3%B3n_PDF.ipynb\" target=\"_parent\"><img src=\"https://colab.research.google.com/assets/colab-badge.svg\" alt=\"Open In Colab\"/></a>"
      ]
    },
    {
      "cell_type": "code",
      "execution_count": null,
      "metadata": {
        "colab": {
          "base_uri": "https://localhost:8080/"
        },
        "id": "RhDCFWaYYOzf",
        "outputId": "2052ffde-318e-4774-fb70-b1db90362173"
      },
      "outputs": [
        {
          "output_type": "stream",
          "name": "stdout",
          "text": [
            "[NbConvertApp] Converting notebook /content/GB__Clase_1_Fundamentos_de_Bases_de_Datos.ipynb to html\n",
            "[NbConvertApp] Writing 417805 bytes to /content/GB__Clase_1_Fundamentos_de_Bases_de_Datos.html\n"
          ]
        }
      ],
      "source": [
        "!jupyter nbconvert --to html (Pegar dirección aquí!)"
      ]
    },
    {
      "cell_type": "markdown",
      "source": [
        "1.- Subir archivo .ipynb en \"Archivos\"\n",
        "\n",
        "2.- copiar dirección de archivo subido y pegar en (Pegar dirección aquí)\n",
        "\n",
        "3.- Ejecutar código\n",
        "\n",
        "4.- Descargar archivo HTML desde \"Archivos\"\n",
        "\n",
        "5.- Abrir archivo HTML descargado\n",
        "\n",
        "6.- Imprimir página en PDF\n",
        "\n",
        "7.- Listo!"
      ],
      "metadata": {
        "id": "vg1s4wbw7J9h"
      }
    }
  ]
}